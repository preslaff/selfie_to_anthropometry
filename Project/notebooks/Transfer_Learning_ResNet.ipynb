{
 "cells": [
  {
   "cell_type": "markdown",
   "metadata": {
    "id": "ToK4fJk_UA9Z"
   },
   "source": [
    "# **Transfer Learning with ResNet50**"
   ]
  },
  {
   "cell_type": "code",
   "execution_count": null,
   "metadata": {
    "id": "yVG97VTWV0VI"
   },
   "outputs": [],
   "source": [
    "PROJECT = \"drive/MyDrive/Colab_Notebooks_Deep_Learning/100_Final_Project_DL/\""
   ]
  },
  {
   "cell_type": "code",
   "execution_count": null,
   "metadata": {
    "id": "iPnMhFikV1kp"
   },
   "outputs": [],
   "source": [
    "import sys\n",
    "sys.path.append(PROJECT)"
   ]
  },
  {
   "cell_type": "code",
   "execution_count": null,
   "metadata": {
    "id": "FmRVD-3GVPAI"
   },
   "outputs": [],
   "source": [
    "import os\n",
    "import math\n",
    "import numpy as np\n",
    "import pandas as pd\n",
    "import matplotlib.pyplot as plt\n",
    "\n",
    "import tensorflow as tf\n",
    "\n",
    "import keras\n",
    "\n",
    "from keras.models import Sequential, Model, load_model\n",
    "\n",
    "from keras.layers import Input, Conv2D, MaxPooling2D, Flatten, Dense, Dropout\n",
    "\n",
    "from keras.utils import plot_model\n",
    "\n",
    "from keras.models import load_model\n",
    "\n",
    "from tensorflow.keras.callbacks import EarlyStopping, ModelCheckpoint, TensorBoard, LearningRateScheduler\n",
    "\n",
    "from tensorflow.keras.preprocessing import image\n",
    "\n",
    "from tensorflow.python.ops.numpy_ops import np_config\n",
    "\n",
    "import torch\n",
    "\n",
    "from support_module import (load_and_preprocess_image, create_heatmap, superimpose_heatmap,predict_measurements_and_evaluate, visualize_feature_maps, TARGET_SIZE)\n",
    "\n",
    "from tensorflow.keras.applications import ResNet50\n"
   ]
  },
  {
   "cell_type": "code",
   "execution_count": null,
   "metadata": {
    "id": "v_6QfYjyQyRe"
   },
   "outputs": [],
   "source": [
    "SOURCE_FEMALE = PROJECT+\"/imgs_female/\"\n",
    "SOURCE_MALE = PROJECT+\"/imgs_male/\""
   ]
  },
  {
   "cell_type": "markdown",
   "metadata": {
    "id": "6pS94HFIT_o9"
   },
   "source": [
    "## **2. Tyding, cleaning and EDA**"
   ]
  },
  {
   "cell_type": "markdown",
   "metadata": {
    "id": "SYskZghkSFFb"
   },
   "source": [
    "Let's see some examples!"
   ]
  },
  {
   "cell_type": "markdown",
   "metadata": {
    "id": "uQ6S8u-25A2q"
   },
   "source": [
    "### **Load the datasets**"
   ]
  },
  {
   "cell_type": "markdown",
   "metadata": {
    "id": "x4rAXIAWTUEl"
   },
   "source": [
    "Let's load our annotations. We have 16 anthropometrics for each image."
   ]
  },
  {
   "cell_type": "code",
   "execution_count": null,
   "metadata": {
    "id": "AXcO64rWvVX-"
   },
   "outputs": [],
   "source": [
    "female_data = pd.read_csv(PROJECT+\"/train_female.csv\")\n",
    "male_data = pd.read_csv(PROJECT+\"/train_male.csv\")"
   ]
  },
  {
   "cell_type": "code",
   "execution_count": null,
   "metadata": {
    "id": "L7tQb4PY0034"
   },
   "outputs": [],
   "source": [
    "female_data['id'] = female_data['id'].astype(str).str.zfill(6)\n",
    "male_data['id'] = male_data['id'].astype(str).str.zfill(6)"
   ]
  },
  {
   "cell_type": "code",
   "execution_count": null,
   "metadata": {
    "id": "PT2K3nNk3bI2"
   },
   "outputs": [],
   "source": [
    "female_data['filename'] = female_data[\"id\"].astype(str)+\".png\"\n",
    "male_data['filename'] = male_data[\"id\"].astype(str)+\".png\""
   ]
  },
  {
   "cell_type": "code",
   "execution_count": null,
   "metadata": {
    "id": "aQgVL3aNs4wZ"
   },
   "outputs": [],
   "source": [
    "# Reading and resizing images. Preprocessing for ResNet and for Custom CNN model\n",
    "def preprocess_image(image_path, measurements, source):\n",
    "    # Read the image\n",
    "    image = tf.io.read_file(source+image_path)\n",
    "    image = tf.image.decode_png(image, channels=3)\n",
    "\n",
    "    # Resize the image to match ResNet50 input\n",
    "    image = tf.image.resize(image, [257, 344])\n",
    "\n",
    "    # Resize the image to a square by cropping the central part, then to 224x224 for Custom model\n",
    "    # image = tf.image.resize_with_crop_or_pad(image, 344, 344)  # Crop to square\n",
    "    # image = tf.image.resize(image, [224, 224])  # Resize to the desired input size\n",
    "\n",
    "    # Normalize the image\n",
    "    image = tf.keras.applications.resnet50.preprocess_input(image)\n",
    "\n",
    "    return image, measurements"
   ]
  },
  {
   "cell_type": "code",
   "execution_count": null,
   "metadata": {
    "id": "OJV9vDisGT50"
   },
   "outputs": [],
   "source": [
    "def create_datasets(dataframe, source, batch_size, train_size, shuffle_buffer_size):\n",
    "    image_paths = dataframe[\"filename\"].values\n",
    "    measurements = dataframe[[\"chest_circ\", \"waist_circ\", \"pelvis_circ\", \"neck_circ\", \"bicep_circ\", \"thigh_circ\", \"knee_circ\",\t\"arm_length\", \"leg_length\", \"calf_length\", \"head_circ\", \"wrist_circ\",\t\"arm_span\", \"shoulders_width\", \"torso_length\", \"inner_leg\"]].values\n",
    "\n",
    "    #Creating the tf Dataset\n",
    "    dataset = tf.data.Dataset.from_tensor_slices((image_paths, measurements))\n",
    "\n",
    "    # Shuffle the dataset\n",
    "    dataset = dataset.shuffle(buffer_size=shuffle_buffer_size, seed=42, reshuffle_each_iteration=True)\n",
    "\n",
    "    num_train_samples = int(len(dataset) * train_size)\n",
    "    train_dataset = dataset.take(num_train_samples).map(lambda x, y: preprocess_image(x, y, source),num_parallel_calls=tf.data.AUTOTUNE).batch(batch_size).prefetch(tf.data.AUTOTUNE)\n",
    "    validation_dataset = dataset.skip(num_train_samples).map(lambda x, y: preprocess_image(x, y, source), num_parallel_calls=tf.data.AUTOTUNE).batch(batch_size).prefetch(tf.data.AUTOTUNE)\n",
    "\n",
    "    return train_dataset, validation_dataset"
   ]
  },
  {
   "cell_type": "code",
   "execution_count": null,
   "metadata": {
    "id": "quMeYy_VHs3M"
   },
   "outputs": [],
   "source": [
    "train_dataset_female, validation_dataset_female = create_datasets(female_data, SOURCE_FEMALE, batch_size=32, train_size=0.85, shuffle_buffer_size=female_data.shape[0])\n",
    "train_dataset_male, validation_dataset_male = create_datasets(male_data, SOURCE_MALE, batch_size=32, train_size=0.85, shuffle_buffer_size=male_data.shape[0])"
   ]
  },
  {
   "cell_type": "code",
   "execution_count": null,
   "metadata": {
    "colab": {
     "base_uri": "https://localhost:8080/"
    },
    "id": "M3qCKy-8xvCz",
    "outputId": "1c4c5ee6-d75e-404f-875d-29aa264c2086"
   },
   "outputs": [
    {
     "name": "stdout",
     "output_type": "stream",
     "text": [
      "Downloading data from https://storage.googleapis.com/tensorflow/keras-applications/resnet/resnet50_weights_tf_dim_ordering_tf_kernels_notop.h5\n",
      "94765736/94765736 [==============================] - 1s 0us/step\n"
     ]
    }
   ],
   "source": [
    "base_model = tf.keras.applications.ResNet50(input_shape=(257, 344, 3), # Defining the base model and cutting classification head. We will use 'imagenet' weights.\n",
    "                                            include_top=False,\n",
    "                                            weights='imagenet')\n",
    "\n",
    "base_model.trainable = False  # Freeze layers for transfer learning"
   ]
  },
  {
   "cell_type": "code",
   "execution_count": null,
   "metadata": {
    "colab": {
     "base_uri": "https://localhost:8080/"
    },
    "id": "5vrvVaPm8TLp",
    "outputId": "7eda82c7-60fa-4f1a-ba0f-daf6e09e4133",
    "scrolled": true
   },
   "outputs": [
    {
     "name": "stdout",
     "output_type": "stream",
     "text": [
      "Model: \"resnet50\"\n",
      "__________________________________________________________________________________________________\n",
      " Layer (type)                Output Shape                 Param #   Connected to                  \n",
      "==================================================================================================\n",
      " input_1 (InputLayer)        [(None, 257, 344, 3)]        0         []                            \n",
      "                                                                                                  \n",
      " conv1_pad (ZeroPadding2D)   (None, 263, 350, 3)          0         ['input_1[0][0]']             \n",
      "                                                                                                  \n",
      " conv1_conv (Conv2D)         (None, 129, 172, 64)         9472      ['conv1_pad[0][0]']           \n",
      "                                                                                                  \n",
      " conv1_bn (BatchNormalizati  (None, 129, 172, 64)         256       ['conv1_conv[0][0]']          \n",
      " on)                                                                                              \n",
      "                                                                                                  \n",
      " conv1_relu (Activation)     (None, 129, 172, 64)         0         ['conv1_bn[0][0]']            \n",
      "                                                                                                  \n",
      " pool1_pad (ZeroPadding2D)   (None, 131, 174, 64)         0         ['conv1_relu[0][0]']          \n",
      "                                                                                                  \n",
      " pool1_pool (MaxPooling2D)   (None, 65, 86, 64)           0         ['pool1_pad[0][0]']           \n",
      "                                                                                                  \n",
      " conv2_block1_1_conv (Conv2  (None, 65, 86, 64)           4160      ['pool1_pool[0][0]']          \n",
      " D)                                                                                               \n",
      "                                                                                                  \n",
      " conv2_block1_1_bn (BatchNo  (None, 65, 86, 64)           256       ['conv2_block1_1_conv[0][0]'] \n",
      " rmalization)                                                                                     \n",
      "                                                                                                  \n",
      " conv2_block1_1_relu (Activ  (None, 65, 86, 64)           0         ['conv2_block1_1_bn[0][0]']   \n",
      " ation)                                                                                           \n",
      "                                                                                                  \n",
      " conv2_block1_2_conv (Conv2  (None, 65, 86, 64)           36928     ['conv2_block1_1_relu[0][0]'] \n",
      " D)                                                                                               \n",
      "                                                                                                  \n",
      " conv2_block1_2_bn (BatchNo  (None, 65, 86, 64)           256       ['conv2_block1_2_conv[0][0]'] \n",
      " rmalization)                                                                                     \n",
      "                                                                                                  \n",
      " conv2_block1_2_relu (Activ  (None, 65, 86, 64)           0         ['conv2_block1_2_bn[0][0]']   \n",
      " ation)                                                                                           \n",
      "                                                                                                  \n",
      " conv2_block1_0_conv (Conv2  (None, 65, 86, 256)          16640     ['pool1_pool[0][0]']          \n",
      " D)                                                                                               \n",
      "                                                                                                  \n",
      " conv2_block1_3_conv (Conv2  (None, 65, 86, 256)          16640     ['conv2_block1_2_relu[0][0]'] \n",
      " D)                                                                                               \n",
      "                                                                                                  \n",
      " conv2_block1_0_bn (BatchNo  (None, 65, 86, 256)          1024      ['conv2_block1_0_conv[0][0]'] \n",
      " rmalization)                                                                                     \n",
      "                                                                                                  \n",
      " conv2_block1_3_bn (BatchNo  (None, 65, 86, 256)          1024      ['conv2_block1_3_conv[0][0]'] \n",
      " rmalization)                                                                                     \n",
      "                                                                                                  \n",
      " conv2_block1_add (Add)      (None, 65, 86, 256)          0         ['conv2_block1_0_bn[0][0]',   \n",
      "                                                                     'conv2_block1_3_bn[0][0]']   \n",
      "                                                                                                  \n",
      " conv2_block1_out (Activati  (None, 65, 86, 256)          0         ['conv2_block1_add[0][0]']    \n",
      " on)                                                                                              \n",
      "                                                                                                  \n",
      " conv2_block2_1_conv (Conv2  (None, 65, 86, 64)           16448     ['conv2_block1_out[0][0]']    \n",
      " D)                                                                                               \n",
      "                                                                                                  \n",
      " conv2_block2_1_bn (BatchNo  (None, 65, 86, 64)           256       ['conv2_block2_1_conv[0][0]'] \n",
      " rmalization)                                                                                     \n",
      "                                                                                                  \n",
      " conv2_block2_1_relu (Activ  (None, 65, 86, 64)           0         ['conv2_block2_1_bn[0][0]']   \n",
      " ation)                                                                                           \n",
      "                                                                                                  \n",
      " conv2_block2_2_conv (Conv2  (None, 65, 86, 64)           36928     ['conv2_block2_1_relu[0][0]'] \n",
      " D)                                                                                               \n",
      "                                                                                                  \n",
      " conv2_block2_2_bn (BatchNo  (None, 65, 86, 64)           256       ['conv2_block2_2_conv[0][0]'] \n",
      " rmalization)                                                                                     \n",
      "                                                                                                  \n",
      " conv2_block2_2_relu (Activ  (None, 65, 86, 64)           0         ['conv2_block2_2_bn[0][0]']   \n",
      " ation)                                                                                           \n",
      "                                                                                                  \n",
      " conv2_block2_3_conv (Conv2  (None, 65, 86, 256)          16640     ['conv2_block2_2_relu[0][0]'] \n",
      " D)                                                                                               \n",
      "                                                                                                  \n",
      " conv2_block2_3_bn (BatchNo  (None, 65, 86, 256)          1024      ['conv2_block2_3_conv[0][0]'] \n",
      " rmalization)                                                                                     \n",
      "                                                                                                  \n",
      " conv2_block2_add (Add)      (None, 65, 86, 256)          0         ['conv2_block1_out[0][0]',    \n",
      "                                                                     'conv2_block2_3_bn[0][0]']   \n",
      "                                                                                                  \n",
      " conv2_block2_out (Activati  (None, 65, 86, 256)          0         ['conv2_block2_add[0][0]']    \n",
      " on)                                                                                              \n",
      "                                                                                                  \n",
      " conv2_block3_1_conv (Conv2  (None, 65, 86, 64)           16448     ['conv2_block2_out[0][0]']    \n",
      " D)                                                                                               \n",
      "                                                                                                  \n",
      " conv2_block3_1_bn (BatchNo  (None, 65, 86, 64)           256       ['conv2_block3_1_conv[0][0]'] \n",
      " rmalization)                                                                                     \n",
      "                                                                                                  \n",
      " conv2_block3_1_relu (Activ  (None, 65, 86, 64)           0         ['conv2_block3_1_bn[0][0]']   \n",
      " ation)                                                                                           \n",
      "                                                                                                  \n",
      " conv2_block3_2_conv (Conv2  (None, 65, 86, 64)           36928     ['conv2_block3_1_relu[0][0]'] \n",
      " D)                                                                                               \n",
      "                                                                                                  \n",
      " conv2_block3_2_bn (BatchNo  (None, 65, 86, 64)           256       ['conv2_block3_2_conv[0][0]'] \n",
      " rmalization)                                                                                     \n",
      "                                                                                                  \n",
      " conv2_block3_2_relu (Activ  (None, 65, 86, 64)           0         ['conv2_block3_2_bn[0][0]']   \n",
      " ation)                                                                                           \n",
      "                                                                                                  \n",
      " conv2_block3_3_conv (Conv2  (None, 65, 86, 256)          16640     ['conv2_block3_2_relu[0][0]'] \n",
      " D)                                                                                               \n",
      "                                                                                                  \n",
      " conv2_block3_3_bn (BatchNo  (None, 65, 86, 256)          1024      ['conv2_block3_3_conv[0][0]'] \n",
      " rmalization)                                                                                     \n",
      "                                                                                                  \n",
      " conv2_block3_add (Add)      (None, 65, 86, 256)          0         ['conv2_block2_out[0][0]',    \n",
      "                                                                     'conv2_block3_3_bn[0][0]']   \n",
      "                                                                                                  \n",
      " conv2_block3_out (Activati  (None, 65, 86, 256)          0         ['conv2_block3_add[0][0]']    \n",
      " on)                                                                                              \n",
      "                                                                                                  \n",
      " conv3_block1_1_conv (Conv2  (None, 33, 43, 128)          32896     ['conv2_block3_out[0][0]']    \n",
      " D)                                                                                               \n",
      "                                                                                                  \n",
      " conv3_block1_1_bn (BatchNo  (None, 33, 43, 128)          512       ['conv3_block1_1_conv[0][0]'] \n",
      " rmalization)                                                                                     \n",
      "                                                                                                  \n",
      " conv3_block1_1_relu (Activ  (None, 33, 43, 128)          0         ['conv3_block1_1_bn[0][0]']   \n",
      " ation)                                                                                           \n",
      "                                                                                                  \n",
      " conv3_block1_2_conv (Conv2  (None, 33, 43, 128)          147584    ['conv3_block1_1_relu[0][0]'] \n",
      " D)                                                                                               \n",
      "                                                                                                  \n",
      " conv3_block1_2_bn (BatchNo  (None, 33, 43, 128)          512       ['conv3_block1_2_conv[0][0]'] \n",
      " rmalization)                                                                                     \n",
      "                                                                                                  \n",
      " conv3_block1_2_relu (Activ  (None, 33, 43, 128)          0         ['conv3_block1_2_bn[0][0]']   \n",
      " ation)                                                                                           \n",
      "                                                                                                  \n",
      " conv3_block1_0_conv (Conv2  (None, 33, 43, 512)          131584    ['conv2_block3_out[0][0]']    \n",
      " D)                                                                                               \n",
      "                                                                                                  \n",
      " conv3_block1_3_conv (Conv2  (None, 33, 43, 512)          66048     ['conv3_block1_2_relu[0][0]'] \n",
      " D)                                                                                               \n",
      "                                                                                                  \n",
      " conv3_block1_0_bn (BatchNo  (None, 33, 43, 512)          2048      ['conv3_block1_0_conv[0][0]'] \n",
      " rmalization)                                                                                     \n",
      "                                                                                                  \n",
      " conv3_block1_3_bn (BatchNo  (None, 33, 43, 512)          2048      ['conv3_block1_3_conv[0][0]'] \n",
      " rmalization)                                                                                     \n",
      "                                                                                                  \n",
      " conv3_block1_add (Add)      (None, 33, 43, 512)          0         ['conv3_block1_0_bn[0][0]',   \n",
      "                                                                     'conv3_block1_3_bn[0][0]']   \n",
      "                                                                                                  \n",
      " conv3_block1_out (Activati  (None, 33, 43, 512)          0         ['conv3_block1_add[0][0]']    \n",
      " on)                                                                                              \n",
      "                                                                                                  \n",
      " conv3_block2_1_conv (Conv2  (None, 33, 43, 128)          65664     ['conv3_block1_out[0][0]']    \n",
      " D)                                                                                               \n",
      "                                                                                                  \n",
      " conv3_block2_1_bn (BatchNo  (None, 33, 43, 128)          512       ['conv3_block2_1_conv[0][0]'] \n",
      " rmalization)                                                                                     \n",
      "                                                                                                  \n",
      " conv3_block2_1_relu (Activ  (None, 33, 43, 128)          0         ['conv3_block2_1_bn[0][0]']   \n",
      " ation)                                                                                           \n",
      "                                                                                                  \n",
      " conv3_block2_2_conv (Conv2  (None, 33, 43, 128)          147584    ['conv3_block2_1_relu[0][0]'] \n",
      " D)                                                                                               \n",
      "                                                                                                  \n",
      " conv3_block2_2_bn (BatchNo  (None, 33, 43, 128)          512       ['conv3_block2_2_conv[0][0]'] \n",
      " rmalization)                                                                                     \n",
      "                                                                                                  \n",
      " conv3_block2_2_relu (Activ  (None, 33, 43, 128)          0         ['conv3_block2_2_bn[0][0]']   \n",
      " ation)                                                                                           \n",
      "                                                                                                  \n",
      " conv3_block2_3_conv (Conv2  (None, 33, 43, 512)          66048     ['conv3_block2_2_relu[0][0]'] \n",
      " D)                                                                                               \n",
      "                                                                                                  \n",
      " conv3_block2_3_bn (BatchNo  (None, 33, 43, 512)          2048      ['conv3_block2_3_conv[0][0]'] \n",
      " rmalization)                                                                                     \n",
      "                                                                                                  \n",
      " conv3_block2_add (Add)      (None, 33, 43, 512)          0         ['conv3_block1_out[0][0]',    \n",
      "                                                                     'conv3_block2_3_bn[0][0]']   \n",
      "                                                                                                  \n",
      " conv3_block2_out (Activati  (None, 33, 43, 512)          0         ['conv3_block2_add[0][0]']    \n",
      " on)                                                                                              \n",
      "                                                                                                  \n",
      " conv3_block3_1_conv (Conv2  (None, 33, 43, 128)          65664     ['conv3_block2_out[0][0]']    \n",
      " D)                                                                                               \n",
      "                                                                                                  \n",
      " conv3_block3_1_bn (BatchNo  (None, 33, 43, 128)          512       ['conv3_block3_1_conv[0][0]'] \n",
      " rmalization)                                                                                     \n",
      "                                                                                                  \n",
      " conv3_block3_1_relu (Activ  (None, 33, 43, 128)          0         ['conv3_block3_1_bn[0][0]']   \n",
      " ation)                                                                                           \n",
      "                                                                                                  \n",
      " conv3_block3_2_conv (Conv2  (None, 33, 43, 128)          147584    ['conv3_block3_1_relu[0][0]'] \n",
      " D)                                                                                               \n",
      "                                                                                                  \n",
      " conv3_block3_2_bn (BatchNo  (None, 33, 43, 128)          512       ['conv3_block3_2_conv[0][0]'] \n",
      " rmalization)                                                                                     \n",
      "                                                                                                  \n",
      " conv3_block3_2_relu (Activ  (None, 33, 43, 128)          0         ['conv3_block3_2_bn[0][0]']   \n",
      " ation)                                                                                           \n",
      "                                                                                                  \n",
      " conv3_block3_3_conv (Conv2  (None, 33, 43, 512)          66048     ['conv3_block3_2_relu[0][0]'] \n",
      " D)                                                                                               \n",
      "                                                                                                  \n",
      " conv3_block3_3_bn (BatchNo  (None, 33, 43, 512)          2048      ['conv3_block3_3_conv[0][0]'] \n",
      " rmalization)                                                                                     \n",
      "                                                                                                  \n",
      " conv3_block3_add (Add)      (None, 33, 43, 512)          0         ['conv3_block2_out[0][0]',    \n",
      "                                                                     'conv3_block3_3_bn[0][0]']   \n",
      "                                                                                                  \n",
      " conv3_block3_out (Activati  (None, 33, 43, 512)          0         ['conv3_block3_add[0][0]']    \n",
      " on)                                                                                              \n",
      "                                                                                                  \n",
      " conv3_block4_1_conv (Conv2  (None, 33, 43, 128)          65664     ['conv3_block3_out[0][0]']    \n",
      " D)                                                                                               \n",
      "                                                                                                  \n",
      " conv3_block4_1_bn (BatchNo  (None, 33, 43, 128)          512       ['conv3_block4_1_conv[0][0]'] \n",
      " rmalization)                                                                                     \n",
      "                                                                                                  \n",
      " conv3_block4_1_relu (Activ  (None, 33, 43, 128)          0         ['conv3_block4_1_bn[0][0]']   \n",
      " ation)                                                                                           \n",
      "                                                                                                  \n",
      " conv3_block4_2_conv (Conv2  (None, 33, 43, 128)          147584    ['conv3_block4_1_relu[0][0]'] \n",
      " D)                                                                                               \n",
      "                                                                                                  \n",
      " conv3_block4_2_bn (BatchNo  (None, 33, 43, 128)          512       ['conv3_block4_2_conv[0][0]'] \n",
      " rmalization)                                                                                     \n",
      "                                                                                                  \n",
      " conv3_block4_2_relu (Activ  (None, 33, 43, 128)          0         ['conv3_block4_2_bn[0][0]']   \n",
      " ation)                                                                                           \n",
      "                                                                                                  \n",
      " conv3_block4_3_conv (Conv2  (None, 33, 43, 512)          66048     ['conv3_block4_2_relu[0][0]'] \n",
      " D)                                                                                               \n",
      "                                                                                                  \n",
      " conv3_block4_3_bn (BatchNo  (None, 33, 43, 512)          2048      ['conv3_block4_3_conv[0][0]'] \n",
      " rmalization)                                                                                     \n",
      "                                                                                                  \n",
      " conv3_block4_add (Add)      (None, 33, 43, 512)          0         ['conv3_block3_out[0][0]',    \n",
      "                                                                     'conv3_block4_3_bn[0][0]']   \n",
      "                                                                                                  \n",
      " conv3_block4_out (Activati  (None, 33, 43, 512)          0         ['conv3_block4_add[0][0]']    \n",
      " on)                                                                                              \n",
      "                                                                                                  \n",
      " conv4_block1_1_conv (Conv2  (None, 17, 22, 256)          131328    ['conv3_block4_out[0][0]']    \n",
      " D)                                                                                               \n",
      "                                                                                                  \n",
      " conv4_block1_1_bn (BatchNo  (None, 17, 22, 256)          1024      ['conv4_block1_1_conv[0][0]'] \n",
      " rmalization)                                                                                     \n",
      "                                                                                                  \n",
      " conv4_block1_1_relu (Activ  (None, 17, 22, 256)          0         ['conv4_block1_1_bn[0][0]']   \n",
      " ation)                                                                                           \n",
      "                                                                                                  \n",
      " conv4_block1_2_conv (Conv2  (None, 17, 22, 256)          590080    ['conv4_block1_1_relu[0][0]'] \n",
      " D)                                                                                               \n",
      "                                                                                                  \n",
      " conv4_block1_2_bn (BatchNo  (None, 17, 22, 256)          1024      ['conv4_block1_2_conv[0][0]'] \n",
      " rmalization)                                                                                     \n",
      "                                                                                                  \n",
      " conv4_block1_2_relu (Activ  (None, 17, 22, 256)          0         ['conv4_block1_2_bn[0][0]']   \n",
      " ation)                                                                                           \n",
      "                                                                                                  \n",
      " conv4_block1_0_conv (Conv2  (None, 17, 22, 1024)         525312    ['conv3_block4_out[0][0]']    \n",
      " D)                                                                                               \n",
      "                                                                                                  \n",
      " conv4_block1_3_conv (Conv2  (None, 17, 22, 1024)         263168    ['conv4_block1_2_relu[0][0]'] \n",
      " D)                                                                                               \n",
      "                                                                                                  \n",
      " conv4_block1_0_bn (BatchNo  (None, 17, 22, 1024)         4096      ['conv4_block1_0_conv[0][0]'] \n",
      " rmalization)                                                                                     \n",
      "                                                                                                  \n",
      " conv4_block1_3_bn (BatchNo  (None, 17, 22, 1024)         4096      ['conv4_block1_3_conv[0][0]'] \n",
      " rmalization)                                                                                     \n",
      "                                                                                                  \n",
      " conv4_block1_add (Add)      (None, 17, 22, 1024)         0         ['conv4_block1_0_bn[0][0]',   \n",
      "                                                                     'conv4_block1_3_bn[0][0]']   \n",
      "                                                                                                  \n",
      " conv4_block1_out (Activati  (None, 17, 22, 1024)         0         ['conv4_block1_add[0][0]']    \n",
      " on)                                                                                              \n",
      "                                                                                                  \n",
      " conv4_block2_1_conv (Conv2  (None, 17, 22, 256)          262400    ['conv4_block1_out[0][0]']    \n",
      " D)                                                                                               \n",
      "                                                                                                  \n",
      " conv4_block2_1_bn (BatchNo  (None, 17, 22, 256)          1024      ['conv4_block2_1_conv[0][0]'] \n",
      " rmalization)                                                                                     \n",
      "                                                                                                  \n",
      " conv4_block2_1_relu (Activ  (None, 17, 22, 256)          0         ['conv4_block2_1_bn[0][0]']   \n",
      " ation)                                                                                           \n",
      "                                                                                                  \n",
      " conv4_block2_2_conv (Conv2  (None, 17, 22, 256)          590080    ['conv4_block2_1_relu[0][0]'] \n",
      " D)                                                                                               \n",
      "                                                                                                  \n",
      " conv4_block2_2_bn (BatchNo  (None, 17, 22, 256)          1024      ['conv4_block2_2_conv[0][0]'] \n",
      " rmalization)                                                                                     \n",
      "                                                                                                  \n",
      " conv4_block2_2_relu (Activ  (None, 17, 22, 256)          0         ['conv4_block2_2_bn[0][0]']   \n",
      " ation)                                                                                           \n",
      "                                                                                                  \n",
      " conv4_block2_3_conv (Conv2  (None, 17, 22, 1024)         263168    ['conv4_block2_2_relu[0][0]'] \n",
      " D)                                                                                               \n",
      "                                                                                                  \n",
      " conv4_block2_3_bn (BatchNo  (None, 17, 22, 1024)         4096      ['conv4_block2_3_conv[0][0]'] \n",
      " rmalization)                                                                                     \n",
      "                                                                                                  \n",
      " conv4_block2_add (Add)      (None, 17, 22, 1024)         0         ['conv4_block1_out[0][0]',    \n",
      "                                                                     'conv4_block2_3_bn[0][0]']   \n",
      "                                                                                                  \n",
      " conv4_block2_out (Activati  (None, 17, 22, 1024)         0         ['conv4_block2_add[0][0]']    \n",
      " on)                                                                                              \n",
      "                                                                                                  \n",
      " conv4_block3_1_conv (Conv2  (None, 17, 22, 256)          262400    ['conv4_block2_out[0][0]']    \n",
      " D)                                                                                               \n",
      "                                                                                                  \n",
      " conv4_block3_1_bn (BatchNo  (None, 17, 22, 256)          1024      ['conv4_block3_1_conv[0][0]'] \n",
      " rmalization)                                                                                     \n",
      "                                                                                                  \n",
      " conv4_block3_1_relu (Activ  (None, 17, 22, 256)          0         ['conv4_block3_1_bn[0][0]']   \n",
      " ation)                                                                                           \n",
      "                                                                                                  \n",
      " conv4_block3_2_conv (Conv2  (None, 17, 22, 256)          590080    ['conv4_block3_1_relu[0][0]'] \n",
      " D)                                                                                               \n",
      "                                                                                                  \n",
      " conv4_block3_2_bn (BatchNo  (None, 17, 22, 256)          1024      ['conv4_block3_2_conv[0][0]'] \n",
      " rmalization)                                                                                     \n",
      "                                                                                                  \n",
      " conv4_block3_2_relu (Activ  (None, 17, 22, 256)          0         ['conv4_block3_2_bn[0][0]']   \n",
      " ation)                                                                                           \n",
      "                                                                                                  \n",
      " conv4_block3_3_conv (Conv2  (None, 17, 22, 1024)         263168    ['conv4_block3_2_relu[0][0]'] \n",
      " D)                                                                                               \n",
      "                                                                                                  \n",
      " conv4_block3_3_bn (BatchNo  (None, 17, 22, 1024)         4096      ['conv4_block3_3_conv[0][0]'] \n",
      " rmalization)                                                                                     \n",
      "                                                                                                  \n",
      " conv4_block3_add (Add)      (None, 17, 22, 1024)         0         ['conv4_block2_out[0][0]',    \n",
      "                                                                     'conv4_block3_3_bn[0][0]']   \n",
      "                                                                                                  \n",
      " conv4_block3_out (Activati  (None, 17, 22, 1024)         0         ['conv4_block3_add[0][0]']    \n",
      " on)                                                                                              \n",
      "                                                                                                  \n",
      " conv4_block4_1_conv (Conv2  (None, 17, 22, 256)          262400    ['conv4_block3_out[0][0]']    \n",
      " D)                                                                                               \n",
      "                                                                                                  \n",
      " conv4_block4_1_bn (BatchNo  (None, 17, 22, 256)          1024      ['conv4_block4_1_conv[0][0]'] \n",
      " rmalization)                                                                                     \n",
      "                                                                                                  \n",
      " conv4_block4_1_relu (Activ  (None, 17, 22, 256)          0         ['conv4_block4_1_bn[0][0]']   \n",
      " ation)                                                                                           \n",
      "                                                                                                  \n",
      " conv4_block4_2_conv (Conv2  (None, 17, 22, 256)          590080    ['conv4_block4_1_relu[0][0]'] \n",
      " D)                                                                                               \n",
      "                                                                                                  \n",
      " conv4_block4_2_bn (BatchNo  (None, 17, 22, 256)          1024      ['conv4_block4_2_conv[0][0]'] \n",
      " rmalization)                                                                                     \n",
      "                                                                                                  \n",
      " conv4_block4_2_relu (Activ  (None, 17, 22, 256)          0         ['conv4_block4_2_bn[0][0]']   \n",
      " ation)                                                                                           \n",
      "                                                                                                  \n",
      " conv4_block4_3_conv (Conv2  (None, 17, 22, 1024)         263168    ['conv4_block4_2_relu[0][0]'] \n",
      " D)                                                                                               \n",
      "                                                                                                  \n",
      " conv4_block4_3_bn (BatchNo  (None, 17, 22, 1024)         4096      ['conv4_block4_3_conv[0][0]'] \n",
      " rmalization)                                                                                     \n",
      "                                                                                                  \n",
      " conv4_block4_add (Add)      (None, 17, 22, 1024)         0         ['conv4_block3_out[0][0]',    \n",
      "                                                                     'conv4_block4_3_bn[0][0]']   \n",
      "                                                                                                  \n",
      " conv4_block4_out (Activati  (None, 17, 22, 1024)         0         ['conv4_block4_add[0][0]']    \n",
      " on)                                                                                              \n",
      "                                                                                                  \n",
      " conv4_block5_1_conv (Conv2  (None, 17, 22, 256)          262400    ['conv4_block4_out[0][0]']    \n",
      " D)                                                                                               \n",
      "                                                                                                  \n",
      " conv4_block5_1_bn (BatchNo  (None, 17, 22, 256)          1024      ['conv4_block5_1_conv[0][0]'] \n",
      " rmalization)                                                                                     \n",
      "                                                                                                  \n",
      " conv4_block5_1_relu (Activ  (None, 17, 22, 256)          0         ['conv4_block5_1_bn[0][0]']   \n",
      " ation)                                                                                           \n",
      "                                                                                                  \n",
      " conv4_block5_2_conv (Conv2  (None, 17, 22, 256)          590080    ['conv4_block5_1_relu[0][0]'] \n",
      " D)                                                                                               \n",
      "                                                                                                  \n",
      " conv4_block5_2_bn (BatchNo  (None, 17, 22, 256)          1024      ['conv4_block5_2_conv[0][0]'] \n",
      " rmalization)                                                                                     \n",
      "                                                                                                  \n",
      " conv4_block5_2_relu (Activ  (None, 17, 22, 256)          0         ['conv4_block5_2_bn[0][0]']   \n",
      " ation)                                                                                           \n",
      "                                                                                                  \n",
      " conv4_block5_3_conv (Conv2  (None, 17, 22, 1024)         263168    ['conv4_block5_2_relu[0][0]'] \n",
      " D)                                                                                               \n",
      "                                                                                                  \n",
      " conv4_block5_3_bn (BatchNo  (None, 17, 22, 1024)         4096      ['conv4_block5_3_conv[0][0]'] \n",
      " rmalization)                                                                                     \n",
      "                                                                                                  \n",
      " conv4_block5_add (Add)      (None, 17, 22, 1024)         0         ['conv4_block4_out[0][0]',    \n",
      "                                                                     'conv4_block5_3_bn[0][0]']   \n",
      "                                                                                                  \n",
      " conv4_block5_out (Activati  (None, 17, 22, 1024)         0         ['conv4_block5_add[0][0]']    \n",
      " on)                                                                                              \n",
      "                                                                                                  \n",
      " conv4_block6_1_conv (Conv2  (None, 17, 22, 256)          262400    ['conv4_block5_out[0][0]']    \n",
      " D)                                                                                               \n",
      "                                                                                                  \n",
      " conv4_block6_1_bn (BatchNo  (None, 17, 22, 256)          1024      ['conv4_block6_1_conv[0][0]'] \n",
      " rmalization)                                                                                     \n",
      "                                                                                                  \n",
      " conv4_block6_1_relu (Activ  (None, 17, 22, 256)          0         ['conv4_block6_1_bn[0][0]']   \n",
      " ation)                                                                                           \n",
      "                                                                                                  \n",
      " conv4_block6_2_conv (Conv2  (None, 17, 22, 256)          590080    ['conv4_block6_1_relu[0][0]'] \n",
      " D)                                                                                               \n",
      "                                                                                                  \n",
      " conv4_block6_2_bn (BatchNo  (None, 17, 22, 256)          1024      ['conv4_block6_2_conv[0][0]'] \n",
      " rmalization)                                                                                     \n",
      "                                                                                                  \n",
      " conv4_block6_2_relu (Activ  (None, 17, 22, 256)          0         ['conv4_block6_2_bn[0][0]']   \n",
      " ation)                                                                                           \n",
      "                                                                                                  \n",
      " conv4_block6_3_conv (Conv2  (None, 17, 22, 1024)         263168    ['conv4_block6_2_relu[0][0]'] \n",
      " D)                                                                                               \n",
      "                                                                                                  \n",
      " conv4_block6_3_bn (BatchNo  (None, 17, 22, 1024)         4096      ['conv4_block6_3_conv[0][0]'] \n",
      " rmalization)                                                                                     \n",
      "                                                                                                  \n",
      " conv4_block6_add (Add)      (None, 17, 22, 1024)         0         ['conv4_block5_out[0][0]',    \n",
      "                                                                     'conv4_block6_3_bn[0][0]']   \n",
      "                                                                                                  \n",
      " conv4_block6_out (Activati  (None, 17, 22, 1024)         0         ['conv4_block6_add[0][0]']    \n",
      " on)                                                                                              \n",
      "                                                                                                  \n",
      " conv5_block1_1_conv (Conv2  (None, 9, 11, 512)           524800    ['conv4_block6_out[0][0]']    \n",
      " D)                                                                                               \n",
      "                                                                                                  \n",
      " conv5_block1_1_bn (BatchNo  (None, 9, 11, 512)           2048      ['conv5_block1_1_conv[0][0]'] \n",
      " rmalization)                                                                                     \n",
      "                                                                                                  \n",
      " conv5_block1_1_relu (Activ  (None, 9, 11, 512)           0         ['conv5_block1_1_bn[0][0]']   \n",
      " ation)                                                                                           \n",
      "                                                                                                  \n",
      " conv5_block1_2_conv (Conv2  (None, 9, 11, 512)           2359808   ['conv5_block1_1_relu[0][0]'] \n",
      " D)                                                                                               \n",
      "                                                                                                  \n",
      " conv5_block1_2_bn (BatchNo  (None, 9, 11, 512)           2048      ['conv5_block1_2_conv[0][0]'] \n",
      " rmalization)                                                                                     \n",
      "                                                                                                  \n",
      " conv5_block1_2_relu (Activ  (None, 9, 11, 512)           0         ['conv5_block1_2_bn[0][0]']   \n",
      " ation)                                                                                           \n",
      "                                                                                                  \n",
      " conv5_block1_0_conv (Conv2  (None, 9, 11, 2048)          2099200   ['conv4_block6_out[0][0]']    \n",
      " D)                                                                                               \n",
      "                                                                                                  \n",
      " conv5_block1_3_conv (Conv2  (None, 9, 11, 2048)          1050624   ['conv5_block1_2_relu[0][0]'] \n",
      " D)                                                                                               \n",
      "                                                                                                  \n",
      " conv5_block1_0_bn (BatchNo  (None, 9, 11, 2048)          8192      ['conv5_block1_0_conv[0][0]'] \n",
      " rmalization)                                                                                     \n",
      "                                                                                                  \n",
      " conv5_block1_3_bn (BatchNo  (None, 9, 11, 2048)          8192      ['conv5_block1_3_conv[0][0]'] \n",
      " rmalization)                                                                                     \n",
      "                                                                                                  \n",
      " conv5_block1_add (Add)      (None, 9, 11, 2048)          0         ['conv5_block1_0_bn[0][0]',   \n",
      "                                                                     'conv5_block1_3_bn[0][0]']   \n",
      "                                                                                                  \n",
      " conv5_block1_out (Activati  (None, 9, 11, 2048)          0         ['conv5_block1_add[0][0]']    \n",
      " on)                                                                                              \n",
      "                                                                                                  \n",
      " conv5_block2_1_conv (Conv2  (None, 9, 11, 512)           1049088   ['conv5_block1_out[0][0]']    \n",
      " D)                                                                                               \n",
      "                                                                                                  \n",
      " conv5_block2_1_bn (BatchNo  (None, 9, 11, 512)           2048      ['conv5_block2_1_conv[0][0]'] \n",
      " rmalization)                                                                                     \n",
      "                                                                                                  \n",
      " conv5_block2_1_relu (Activ  (None, 9, 11, 512)           0         ['conv5_block2_1_bn[0][0]']   \n",
      " ation)                                                                                           \n",
      "                                                                                                  \n",
      " conv5_block2_2_conv (Conv2  (None, 9, 11, 512)           2359808   ['conv5_block2_1_relu[0][0]'] \n",
      " D)                                                                                               \n",
      "                                                                                                  \n",
      " conv5_block2_2_bn (BatchNo  (None, 9, 11, 512)           2048      ['conv5_block2_2_conv[0][0]'] \n",
      " rmalization)                                                                                     \n",
      "                                                                                                  \n",
      " conv5_block2_2_relu (Activ  (None, 9, 11, 512)           0         ['conv5_block2_2_bn[0][0]']   \n",
      " ation)                                                                                           \n",
      "                                                                                                  \n",
      " conv5_block2_3_conv (Conv2  (None, 9, 11, 2048)          1050624   ['conv5_block2_2_relu[0][0]'] \n",
      " D)                                                                                               \n",
      "                                                                                                  \n",
      " conv5_block2_3_bn (BatchNo  (None, 9, 11, 2048)          8192      ['conv5_block2_3_conv[0][0]'] \n",
      " rmalization)                                                                                     \n",
      "                                                                                                  \n",
      " conv5_block2_add (Add)      (None, 9, 11, 2048)          0         ['conv5_block1_out[0][0]',    \n",
      "                                                                     'conv5_block2_3_bn[0][0]']   \n",
      "                                                                                                  \n",
      " conv5_block2_out (Activati  (None, 9, 11, 2048)          0         ['conv5_block2_add[0][0]']    \n",
      " on)                                                                                              \n",
      "                                                                                                  \n",
      " conv5_block3_1_conv (Conv2  (None, 9, 11, 512)           1049088   ['conv5_block2_out[0][0]']    \n",
      " D)                                                                                               \n",
      "                                                                                                  \n",
      " conv5_block3_1_bn (BatchNo  (None, 9, 11, 512)           2048      ['conv5_block3_1_conv[0][0]'] \n",
      " rmalization)                                                                                     \n",
      "                                                                                                  \n",
      " conv5_block3_1_relu (Activ  (None, 9, 11, 512)           0         ['conv5_block3_1_bn[0][0]']   \n",
      " ation)                                                                                           \n",
      "                                                                                                  \n",
      " conv5_block3_2_conv (Conv2  (None, 9, 11, 512)           2359808   ['conv5_block3_1_relu[0][0]'] \n",
      " D)                                                                                               \n",
      "                                                                                                  \n",
      " conv5_block3_2_bn (BatchNo  (None, 9, 11, 512)           2048      ['conv5_block3_2_conv[0][0]'] \n",
      " rmalization)                                                                                     \n",
      "                                                                                                  \n",
      " conv5_block3_2_relu (Activ  (None, 9, 11, 512)           0         ['conv5_block3_2_bn[0][0]']   \n",
      " ation)                                                                                           \n",
      "                                                                                                  \n",
      " conv5_block3_3_conv (Conv2  (None, 9, 11, 2048)          1050624   ['conv5_block3_2_relu[0][0]'] \n",
      " D)                                                                                               \n",
      "                                                                                                  \n",
      " conv5_block3_3_bn (BatchNo  (None, 9, 11, 2048)          8192      ['conv5_block3_3_conv[0][0]'] \n",
      " rmalization)                                                                                     \n",
      "                                                                                                  \n",
      " conv5_block3_add (Add)      (None, 9, 11, 2048)          0         ['conv5_block2_out[0][0]',    \n",
      "                                                                     'conv5_block3_3_bn[0][0]']   \n",
      "                                                                                                  \n",
      " conv5_block3_out (Activati  (None, 9, 11, 2048)          0         ['conv5_block3_add[0][0]']    \n",
      " on)                                                                                              \n",
      "                                                                                                  \n",
      "==================================================================================================\n",
      "Total params: 23587712 (89.98 MB)\n",
      "Trainable params: 0 (0.00 Byte)\n",
      "Non-trainable params: 23587712 (89.98 MB)\n",
      "__________________________________________________________________________________________________\n"
     ]
    }
   ],
   "source": [
    "base_model.summary()"
   ]
  },
  {
   "cell_type": "code",
   "execution_count": null,
   "metadata": {
    "id": "ld7zb0SRyEVs"
   },
   "outputs": [],
   "source": [
    "x = base_model.output\n",
    "x = tf.keras.layers.GlobalAveragePooling2D()(x)\n",
    "x = tf.keras.layers.Dense(1024, activation='relu')(x)\n",
    "output = tf.keras.layers.Dense(16)(x)  # No activation, direct regression"
   ]
  },
  {
   "cell_type": "code",
   "execution_count": null,
   "metadata": {
    "id": "Uo463RKT9Bl4"
   },
   "outputs": [],
   "source": [
    "transfer_model = tf.keras.Model(inputs=base_model.input, outputs=output)"
   ]
  },
  {
   "cell_type": "markdown",
   "metadata": {
    "id": "xsjIpziZ7e_o"
   },
   "source": [
    "### **3. Setup the training process**"
   ]
  },
  {
   "cell_type": "markdown",
   "metadata": {
    "id": "62ZzvpzNoeYw"
   },
   "source": [
    "We will use MLflow with Databricks to log our experiments"
   ]
  },
  {
   "cell_type": "code",
   "execution_count": null,
   "metadata": {
    "colab": {
     "base_uri": "https://localhost:8080/"
    },
    "id": "756TGc1gVCX9",
    "outputId": "9f30a88d-298c-4834-e1dc-258a8cbaa432"
   },
   "outputs": [
    {
     "name": "stdout",
     "output_type": "stream",
     "text": [
      "\u001b[2K     \u001b[90m━━━━━━━━━━━━━━━━━━━━━━━━━━━━━━━━━━━━━━━━\u001b[0m \u001b[32m19.5/19.5 MB\u001b[0m \u001b[31m22.1 MB/s\u001b[0m eta \u001b[36m0:00:00\u001b[0m\n",
      "\u001b[2K     \u001b[90m━━━━━━━━━━━━━━━━━━━━━━━━━━━━━━━━━━━━━━━━\u001b[0m \u001b[32m439.5/439.5 kB\u001b[0m \u001b[31m45.1 MB/s\u001b[0m eta \u001b[36m0:00:00\u001b[0m\n",
      "\u001b[2K     \u001b[90m━━━━━━━━━━━━━━━━━━━━━━━━━━━━━━━━━━━━━━━━\u001b[0m \u001b[32m150.3/150.3 kB\u001b[0m \u001b[31m21.1 MB/s\u001b[0m eta \u001b[36m0:00:00\u001b[0m\n",
      "\u001b[2K     \u001b[90m━━━━━━━━━━━━━━━━━━━━━━━━━━━━━━━━━━━━━━━━\u001b[0m \u001b[32m196.4/196.4 kB\u001b[0m \u001b[31m24.5 MB/s\u001b[0m eta \u001b[36m0:00:00\u001b[0m\n",
      "\u001b[2K     \u001b[90m━━━━━━━━━━━━━━━━━━━━━━━━━━━━━━━━━━━━━━━━\u001b[0m \u001b[32m233.4/233.4 kB\u001b[0m \u001b[31m27.3 MB/s\u001b[0m eta \u001b[36m0:00:00\u001b[0m\n",
      "\u001b[2K     \u001b[90m━━━━━━━━━━━━━━━━━━━━━━━━━━━━━━━━━━━━━━━━\u001b[0m \u001b[32m147.6/147.6 kB\u001b[0m \u001b[31m19.6 MB/s\u001b[0m eta \u001b[36m0:00:00\u001b[0m\n",
      "\u001b[2K     \u001b[90m━━━━━━━━━━━━━━━━━━━━━━━━━━━━━━━━━━━━━━━━\u001b[0m \u001b[32m80.2/80.2 kB\u001b[0m \u001b[31m4.6 MB/s\u001b[0m eta \u001b[36m0:00:00\u001b[0m\n",
      "\u001b[2K     \u001b[90m━━━━━━━━━━━━━━━━━━━━━━━━━━━━━━━━━━━━━━━━\u001b[0m \u001b[32m78.7/78.7 kB\u001b[0m \u001b[31m10.5 MB/s\u001b[0m eta \u001b[36m0:00:00\u001b[0m\n",
      "\u001b[2K     \u001b[90m━━━━━━━━━━━━━━━━━━━━━━━━━━━━━━━━━━━━━━━━\u001b[0m \u001b[32m62.7/62.7 kB\u001b[0m \u001b[31m7.9 MB/s\u001b[0m eta \u001b[36m0:00:00\u001b[0m\n",
      "\u001b[?25h"
     ]
    }
   ],
   "source": [
    "!pip install -q mlflow databricks-sdk"
   ]
  },
  {
   "cell_type": "markdown",
   "metadata": {
    "id": "7NaxRVxh5USZ"
   },
   "source": [
    "Let's create our first experiment! Later we use the experiment ID to add runs in it. The link to the experiment is : [Initial ResNet50 with custom head](https://community.cloud.databricks.com/?o=6058138271020888#mlflow/experiments/4431290084046969?searchFilter=&orderByKey=attributes.start_time&orderByAsc=false&startTime=ALL&lifecycleFilter=Active&datasetsFilter=W10%3D&modelVersionFilter=All%20Runs&selectedColumns=attributes.%60Source%60,attributes.%60Models%60)"
   ]
  },
  {
   "cell_type": "markdown",
   "metadata": {
    "id": "3W4SZpAgcL5K"
   },
   "source": [
    "First we compile the model. We will use `Adam` optimizer with default hyperparamameters. Second run we tune the optimizer using modification of `Adam` - `AMSGrad` and smaller `learning_rate = 0.0005` because learning curve shows less oscillations and the the final loss is better."
   ]
  },
  {
   "cell_type": "code",
   "execution_count": null,
   "metadata": {
    "id": "nF7ykGAZVCYA"
   },
   "outputs": [],
   "source": [
    "# Define the CosineDecay learning rate schedule\n",
    "lr_schedule = tf.keras.optimizers.schedules.CosineDecay(initial_learning_rate=0.0005, decay_steps=132600, alpha=0.2)\n"
   ]
  },
  {
   "cell_type": "code",
   "execution_count": null,
   "metadata": {
    "id": "oaYQHe2Wdzky"
   },
   "outputs": [],
   "source": [
    "optimizer = tf.keras.optimizers.Adam(learning_rate=lr_schedule, amsgrad=True)"
   ]
  },
  {
   "cell_type": "code",
   "execution_count": null,
   "metadata": {
    "id": "x2D3XKTVVCYA"
   },
   "outputs": [],
   "source": [
    "transfer_model.compile(optimizer=optimizer, loss='mean_absolute_error', metrics=['mean_absolute_percentage_error'])"
   ]
  },
  {
   "cell_type": "markdown",
   "metadata": {
    "id": "Z5_pNF5ciETS"
   },
   "source": [
    "We have to make some preparation before the training. In the previous runs we used `Checkpoints` if the model performance increase we will save the model."
   ]
  },
  {
   "cell_type": "code",
   "execution_count": null,
   "metadata": {
    "id": "CzkiutVD1uQE"
   },
   "outputs": [],
   "source": [
    "CHECKPOINT_PATH = PROJECT+\"/checkpoints/male/model-{epoch:02d}-{val_loss:.2f}.keras\""
   ]
  },
  {
   "cell_type": "markdown",
   "metadata": {
    "id": "veBpbvnxkB1R"
   },
   "source": [
    "We will save checkpoints for every epoch, if we have improved the loss from the previous epoch."
   ]
  },
  {
   "cell_type": "code",
   "execution_count": null,
   "metadata": {
    "id": "82NJREe9VCYC"
   },
   "outputs": [],
   "source": [
    "checkpoint = ModelCheckpoint(\n",
    "    CHECKPOINT_PATH,\n",
    "    monitor='val_loss',   # Metric to monitor\n",
    "    verbose=1,            # Verbosity level\n",
    "    save_best_only=True,  # Save only the best model\n",
    "    mode='min',           # `min` means the monitor metric should decrease (for 'val_loss')\n",
    "    save_weights_only=False # Save the entire model\n",
    ")"
   ]
  },
  {
   "cell_type": "markdown",
   "metadata": {
    "id": "-HStT0eskGvy"
   },
   "source": [
    "We will keep the logs for the training performance for later analysis with TensorBoard. We will train our model for 100 epochs, based on previous experiments, this will be more than enough.\n",
    "\n",
    "For the last run we use `LearningRateScheduler` to decrease the learning rate after the first 10 epochs with arond 10% for every epoch till the last."
   ]
  },
  {
   "cell_type": "code",
   "execution_count": null,
   "metadata": {
    "id": "CxfgpnSja86S"
   },
   "outputs": [],
   "source": [
    "# # Custom learning rate schedule\n",
    "# def scheduler(epoch, lr):\n",
    "#     if epoch < 10:\n",
    "#         return lr\n",
    "#     else:\n",
    "#         return lr * tf.math.exp(-0.1)"
   ]
  },
  {
   "cell_type": "code",
   "execution_count": null,
   "metadata": {
    "id": "FTkWV9C2a96B"
   },
   "outputs": [],
   "source": [
    "# lr_scheduler = LearningRateScheduler(scheduler)"
   ]
  },
  {
   "cell_type": "markdown",
   "metadata": {
    "id": "LRAdSix-7oFB"
   },
   "source": [
    "## **4. Training**"
   ]
  },
  {
   "cell_type": "code",
   "execution_count": null,
   "metadata": {
    "id": "h77gcUWaeeQa"
   },
   "outputs": [],
   "source": [
    "class PrintLearningRate(tf.keras.callbacks.Callback):\n",
    "    def on_epoch_begin(self, epoch, logs=None):\n",
    "        lr = self.model.optimizer.lr\n",
    "        if hasattr(lr, 'numpy'):\n",
    "            # If the learning rate is a TensorFlow object with a numpy method\n",
    "            lr = lr.numpy()\n",
    "        elif callable(lr):\n",
    "            # If the learning rate is a callable (like a schedule), call it with the current step\n",
    "            lr = lr(self.model.optimizer.iterations).numpy()\n",
    "        print(f\"Epoch {epoch+1}: Learning Rate is {lr:.6f}\")\n"
   ]
  },
  {
   "cell_type": "code",
   "execution_count": null,
   "metadata": {
    "colab": {
     "base_uri": "https://localhost:8080/"
    },
    "id": "UysZ06MhVCYE",
    "outputId": "de43584b-4c8c-4e62-eec8-87632160972f"
   },
   "outputs": [
    {
     "metadata": {
      "tags": null
     },
     "name": "stdout",
     "output_type": "stream",
     "text": [
      "Epoch 1: Learning Rate is 0.000500\n",
      "Epoch 1/100\n",
      "1326/1326 [==============================] - ETA: 0s - loss: 2.6473 - mean_absolute_percentage_error: 3.9856\n",
      "Epoch 1: val_loss improved from inf to 1.36071, saving model to drive/MyDrive/Colab_Notebooks_Deep_Learning/100_Final_Project_DL//checkpoints/male/model-01-1.36.keras\n",
      "1326/1326 [==============================] - 5083s 4s/step - loss: 2.6473 - mean_absolute_percentage_error: 3.9856 - val_loss: 1.3607 - val_mean_absolute_percentage_error: 2.2609\n",
      "Epoch 2: Learning Rate is 0.000500\n",
      "Epoch 2/100\n",
      "1326/1326 [==============================] - ETA: 0s - loss: 1.3195 - mean_absolute_percentage_error: 2.2070\n",
      "Epoch 2: val_loss improved from 1.36071 to 1.31812, saving model to drive/MyDrive/Colab_Notebooks_Deep_Learning/100_Final_Project_DL//checkpoints/male/model-02-1.32.keras\n",
      "1326/1326 [==============================] - 923s 696ms/step - loss: 1.3195 - mean_absolute_percentage_error: 2.2070 - val_loss: 1.3181 - val_mean_absolute_percentage_error: 2.2286\n",
      "Epoch 3: Learning Rate is 0.000500\n",
      "Epoch 3/100\n",
      "1326/1326 [==============================] - ETA: 0s - loss: 1.2279 - mean_absolute_percentage_error: 2.0698\n",
      "Epoch 3: val_loss improved from 1.31812 to 1.17725, saving model to drive/MyDrive/Colab_Notebooks_Deep_Learning/100_Final_Project_DL//checkpoints/male/model-03-1.18.keras\n",
      "1326/1326 [==============================] - 455s 343ms/step - loss: 1.2279 - mean_absolute_percentage_error: 2.0698 - val_loss: 1.1772 - val_mean_absolute_percentage_error: 1.9783\n",
      "Epoch 4: Learning Rate is 0.000499\n",
      "Epoch 4/100\n",
      "1326/1326 [==============================] - ETA: 0s - loss: 1.1782 - mean_absolute_percentage_error: 2.0002\n",
      "Epoch 4: val_loss improved from 1.17725 to 1.13331, saving model to drive/MyDrive/Colab_Notebooks_Deep_Learning/100_Final_Project_DL//checkpoints/male/model-04-1.13.keras\n",
      "1326/1326 [==============================] - 384s 289ms/step - loss: 1.1782 - mean_absolute_percentage_error: 2.0002 - val_loss: 1.1333 - val_mean_absolute_percentage_error: 1.9193\n",
      "Epoch 5: Learning Rate is 0.000498\n",
      "Epoch 5/100\n",
      "1326/1326 [==============================] - ETA: 0s - loss: 1.1465 - mean_absolute_percentage_error: 1.9482\n",
      "Epoch 5: val_loss did not improve from 1.13331\n",
      "1326/1326 [==============================] - 410s 309ms/step - loss: 1.1465 - mean_absolute_percentage_error: 1.9482 - val_loss: 1.2496 - val_mean_absolute_percentage_error: 2.1115\n",
      "Epoch 6: Learning Rate is 0.000498\n",
      "Epoch 6/100\n",
      "1326/1326 [==============================] - ETA: 0s - loss: 1.1197 - mean_absolute_percentage_error: 1.9078\n",
      "Epoch 6: val_loss did not improve from 1.13331\n",
      "1326/1326 [==============================] - 381s 287ms/step - loss: 1.1197 - mean_absolute_percentage_error: 1.9078 - val_loss: 1.1526 - val_mean_absolute_percentage_error: 1.9739\n",
      "Epoch 7: Learning Rate is 0.000496\n",
      "Epoch 7/100\n",
      "1326/1326 [==============================] - ETA: 0s - loss: 1.0998 - mean_absolute_percentage_error: 1.8829\n",
      "Epoch 7: val_loss did not improve from 1.13331\n",
      "1326/1326 [==============================] - 402s 303ms/step - loss: 1.0998 - mean_absolute_percentage_error: 1.8829 - val_loss: 1.1399 - val_mean_absolute_percentage_error: 2.0087\n",
      "Epoch 8: Learning Rate is 0.000495\n",
      "Epoch 8/100\n",
      "1326/1326 [==============================] - ETA: 0s - loss: 1.0864 - mean_absolute_percentage_error: 1.8602\n",
      "Epoch 8: val_loss improved from 1.13331 to 1.05533, saving model to drive/MyDrive/Colab_Notebooks_Deep_Learning/100_Final_Project_DL//checkpoints/male/model-08-1.06.keras\n",
      "1326/1326 [==============================] - 402s 303ms/step - loss: 1.0864 - mean_absolute_percentage_error: 1.8602 - val_loss: 1.0553 - val_mean_absolute_percentage_error: 1.7939\n",
      "Epoch 9: Learning Rate is 0.000494\n",
      "Epoch 9/100\n",
      "1326/1326 [==============================] - ETA: 0s - loss: 1.0727 - mean_absolute_percentage_error: 1.8367\n",
      "Epoch 9: val_loss improved from 1.05533 to 1.04850, saving model to drive/MyDrive/Colab_Notebooks_Deep_Learning/100_Final_Project_DL//checkpoints/male/model-09-1.05.keras\n",
      "1326/1326 [==============================] - 374s 282ms/step - loss: 1.0727 - mean_absolute_percentage_error: 1.8367 - val_loss: 1.0485 - val_mean_absolute_percentage_error: 1.7894\n",
      "Epoch 10: Learning Rate is 0.000492\n",
      "Epoch 10/100\n",
      "1326/1326 [==============================] - ETA: 0s - loss: 1.0676 - mean_absolute_percentage_error: 1.8297\n",
      "Epoch 10: val_loss did not improve from 1.04850\n",
      "1326/1326 [==============================] - 404s 305ms/step - loss: 1.0676 - mean_absolute_percentage_error: 1.8297 - val_loss: 1.0634 - val_mean_absolute_percentage_error: 1.8093\n",
      "Epoch 11: Learning Rate is 0.000490\n",
      "Epoch 11/100\n",
      "1326/1326 [==============================] - ETA: 0s - loss: 1.0532 - mean_absolute_percentage_error: 1.8074\n",
      "Epoch 11: val_loss did not improve from 1.04850\n",
      "1326/1326 [==============================] - 408s 308ms/step - loss: 1.0532 - mean_absolute_percentage_error: 1.8074 - val_loss: 1.2527 - val_mean_absolute_percentage_error: 2.1575\n",
      "Epoch 12: Learning Rate is 0.000488\n",
      "Epoch 12/100\n",
      "1326/1326 [==============================] - ETA: 0s - loss: 1.0455 - mean_absolute_percentage_error: 1.7944\n",
      "Epoch 12: val_loss improved from 1.04850 to 1.01816, saving model to drive/MyDrive/Colab_Notebooks_Deep_Learning/100_Final_Project_DL//checkpoints/male/model-12-1.02.keras\n",
      "1326/1326 [==============================] - 406s 306ms/step - loss: 1.0455 - mean_absolute_percentage_error: 1.7944 - val_loss: 1.0182 - val_mean_absolute_percentage_error: 1.7860\n",
      "Epoch 13: Learning Rate is 0.000486\n",
      "Epoch 13/100\n",
      "1326/1326 [==============================] - ETA: 0s - loss: 1.0420 - mean_absolute_percentage_error: 1.7903\n",
      "Epoch 13: val_loss improved from 1.01816 to 0.98151, saving model to drive/MyDrive/Colab_Notebooks_Deep_Learning/100_Final_Project_DL//checkpoints/male/model-13-0.98.keras\n",
      "1326/1326 [==============================] - 381s 287ms/step - loss: 1.0420 - mean_absolute_percentage_error: 1.7903 - val_loss: 0.9815 - val_mean_absolute_percentage_error: 1.6871\n",
      "Epoch 14: Learning Rate is 0.000484\n",
      "Epoch 14/100\n",
      "1326/1326 [==============================] - ETA: 0s - loss: 1.0279 - mean_absolute_percentage_error: 1.7680\n",
      "Epoch 14: val_loss did not improve from 0.98151\n",
      "1326/1326 [==============================] - 404s 305ms/step - loss: 1.0279 - mean_absolute_percentage_error: 1.7680 - val_loss: 1.0045 - val_mean_absolute_percentage_error: 1.7424\n",
      "Epoch 15: Learning Rate is 0.000481\n",
      "Epoch 15/100\n",
      "1326/1326 [==============================] - ETA: 0s - loss: 1.0195 - mean_absolute_percentage_error: 1.7525\n",
      "Epoch 15: val_loss did not improve from 0.98151\n",
      "1326/1326 [==============================] - 380s 286ms/step - loss: 1.0195 - mean_absolute_percentage_error: 1.7525 - val_loss: 0.9884 - val_mean_absolute_percentage_error: 1.7035\n",
      "Epoch 16: Learning Rate is 0.000478\n",
      "Epoch 16/100\n",
      "1326/1326 [==============================] - ETA: 0s - loss: 1.0208 - mean_absolute_percentage_error: 1.7571\n",
      "Epoch 16: val_loss improved from 0.98151 to 0.97875, saving model to drive/MyDrive/Colab_Notebooks_Deep_Learning/100_Final_Project_DL//checkpoints/male/model-16-0.98.keras\n",
      "1326/1326 [==============================] - 381s 287ms/step - loss: 1.0208 - mean_absolute_percentage_error: 1.7571 - val_loss: 0.9788 - val_mean_absolute_percentage_error: 1.6953\n",
      "Epoch 17: Learning Rate is 0.000475\n",
      "Epoch 17/100\n",
      "1326/1326 [==============================] - ETA: 0s - loss: 1.0197 - mean_absolute_percentage_error: 1.7551\n",
      "Epoch 17: val_loss did not improve from 0.97875\n",
      "1326/1326 [==============================] - 403s 304ms/step - loss: 1.0197 - mean_absolute_percentage_error: 1.7551 - val_loss: 1.0518 - val_mean_absolute_percentage_error: 1.8340\n",
      "Epoch 18: Learning Rate is 0.000472\n",
      "Epoch 18/100\n",
      "1326/1326 [==============================] - ETA: 0s - loss: 1.0076 - mean_absolute_percentage_error: 1.7369\n",
      "Epoch 18: val_loss improved from 0.97875 to 0.96949, saving model to drive/MyDrive/Colab_Notebooks_Deep_Learning/100_Final_Project_DL//checkpoints/male/model-18-0.97.keras\n",
      "1326/1326 [==============================] - 405s 305ms/step - loss: 1.0076 - mean_absolute_percentage_error: 1.7369 - val_loss: 0.9695 - val_mean_absolute_percentage_error: 1.6901\n",
      "Epoch 19: Learning Rate is 0.000469\n",
      "Epoch 19/100\n",
      "1326/1326 [==============================] - ETA: 0s - loss: 1.0039 - mean_absolute_percentage_error: 1.7301\n",
      "Epoch 19: val_loss did not improve from 0.96949\n",
      "1326/1326 [==============================] - 409s 308ms/step - loss: 1.0039 - mean_absolute_percentage_error: 1.7301 - val_loss: 1.0337 - val_mean_absolute_percentage_error: 1.7769\n",
      "Epoch 20: Learning Rate is 0.000465\n",
      "Epoch 20/100\n",
      "1326/1326 [==============================] - ETA: 0s - loss: 0.9978 - mean_absolute_percentage_error: 1.7201\n",
      "Epoch 20: val_loss did not improve from 0.96949\n",
      "1326/1326 [==============================] - 379s 286ms/step - loss: 0.9978 - mean_absolute_percentage_error: 1.7201 - val_loss: 0.9801 - val_mean_absolute_percentage_error: 1.7104\n",
      "Epoch 21: Learning Rate is 0.000462\n",
      "Epoch 21/100\n",
      " 784/1326 [================>.............] - ETA: 2:11 - loss: 0.9931 - mean_absolute_percentage_error: 1.7158"
     ]
    }
   ],
   "source": [
    "transfer_model.fit(train_dataset_male,\n",
    "            verbose = 1,\n",
    "            validation_data=validation_dataset_male,\n",
    "            callbacks=[checkpoint,\n",
    "                       PrintLearningRate(),\n",
    "                       TensorBoard(log_dir=PROJECT+\"/checkpoints/male/logs/\"),\n",
    "                       ],\n",
    "            # initial_epoch=1,\n",
    "            epochs=100)"
   ]
  },
  {
   "cell_type": "code",
   "execution_count": null,
   "metadata": {
    "id": "mG9eMuYVPcV3"
   },
   "outputs": [],
   "source": [
    "model = load_model(\"drive/MyDrive/Colab_Notebooks_Deep_Learning/100_Final_Project_DL/checkpoints/female/ResNet50/model-84-0.89.keras\")"
   ]
  },
  {
   "cell_type": "code",
   "execution_count": null,
   "metadata": {
    "id": "SMzmZaruP9Z4"
   },
   "outputs": [],
   "source": [
    "model.save_weights(\"drive/MyDrive/Colab_Notebooks_Deep_Learning/100_Final_Project_DL/checkpoints/female/Custom/model-84-0.89.h5\")"
   ]
  },
  {
   "cell_type": "code",
   "execution_count": null,
   "metadata": {
    "id": "nXdmZ5uLWCSr"
   },
   "outputs": [],
   "source": []
  }
 ],
 "metadata": {
  "accelerator": "GPU",
  "colab": {
   "gpuType": "T4",
   "provenance": []
  },
  "kernelspec": {
   "display_name": "Python 3 (ipykernel)",
   "language": "python",
   "name": "python3"
  },
  "language_info": {
   "codemirror_mode": {
    "name": "ipython",
    "version": 3
   },
   "file_extension": ".py",
   "mimetype": "text/x-python",
   "name": "python",
   "nbconvert_exporter": "python",
   "pygments_lexer": "ipython3",
   "version": "3.11.0"
  }
 },
 "nbformat": 4,
 "nbformat_minor": 4
}
